{
 "cells": [
  {
   "cell_type": "markdown",
   "metadata": {},
   "source": [
    "1. Download the data from the above link. How many \".csv\" files are available in the dataset?\n",
    "\n",
    "    1\n",
    "    2\n",
    "    3\n",
    "    4"
   ]
  },
  {
   "cell_type": "markdown",
   "metadata": {},
   "source": [
    "ans: 4(movies.csv, ratings.csv, tags.csv, links.csv)"
   ]
  },
  {
   "cell_type": "markdown",
   "metadata": {},
   "source": [
    "2. What is the shape of \"movies.csv\"?\n",
    "\n",
    "    (3683, 4)\n",
    "    (9742, 3)\n",
    "    (100836, 4)\n",
    "    None of the above"
   ]
  },
  {
   "cell_type": "code",
   "execution_count": 19,
   "metadata": {},
   "outputs": [
    {
     "name": "stdout",
     "output_type": "stream",
     "text": [
      "(9742, 3)\n"
     ]
    }
   ],
   "source": [
    "import pandas as pd\n",
    "\n",
    "xlsx_file_path = r\"movies.csv\"\n",
    "\n",
    "df = pd.read_csv(xlsx_file_path)\n",
    "\n",
    "print(df.shape)"
   ]
  },
  {
   "cell_type": "markdown",
   "metadata": {},
   "source": [
    "3. What is the shape of \"ratings.csv\"?\n",
    "\n",
    "(3683, 4)\n",
    "(9742, 3)\n",
    "(100836, 4)\n",
    "None of the above"
   ]
  },
  {
   "cell_type": "code",
   "execution_count": 16,
   "metadata": {},
   "outputs": [
    {
     "name": "stdout",
     "output_type": "stream",
     "text": [
      "(100836, 4)\n"
     ]
    }
   ],
   "source": [
    "import pandas as pd\n",
    "\n",
    "xlsx_file_path = r\"ratings.csv\"\n",
    "\n",
    "df = pd.read_csv(xlsx_file_path)\n",
    "\n",
    "print(df.shape)"
   ]
  },
  {
   "cell_type": "markdown",
   "metadata": {},
   "source": [
    "10. Select all the correct options which comes under top 5 popular movies based on number of user ratings.\n",
    "\n",
    "Pulp Fiction (1994)\n",
    "Bad Boys (1995)\n",
    "Silence of the Lambs, The (1991)\n",
    "Matrix, The (1999)"
   ]
  },
  {
   "cell_type": "code",
   "execution_count": 23,
   "metadata": {},
   "outputs": [
    {
     "name": "stdout",
     "output_type": "stream",
     "text": [
      "Top 5 popular movies based on number of user ratings:\n",
      "Index(['Forrest Gump (1994)', 'Shawshank Redemption, The (1994)',\n",
      "       'Pulp Fiction (1994)', 'Silence of the Lambs, The (1991)',\n",
      "       'Matrix, The (1999)'],\n",
      "      dtype='object', name='title')\n"
     ]
    }
   ],
   "source": [
    "import pandas as pd\n",
    "\n",
    "# Load movies and ratings data into DataFrames\n",
    "movies_df = pd.read_csv(\"movies.csv\")\n",
    "ratings_df = pd.read_csv(\"ratings.csv\")\n",
    "\n",
    "# Merge the movies and ratings DataFrames on the movieId column\n",
    "merged_df = pd.merge(ratings_df, movies_df, on=\"movieId\")\n",
    "\n",
    "# Calculate the number of user ratings for each movie\n",
    "ratings_count = merged_df.groupby(\"title\")[\"rating\"].count()\n",
    "\n",
    "# Find the top 5 popular movies based on ratings count\n",
    "top_5_movies = ratings_count.nlargest(5).index\n",
    "\n",
    "# Print the result\n",
    "print(\"Top 5 popular movies based on number of user ratings:\")\n",
    "print(top_5_movies)\n"
   ]
  },
  {
   "cell_type": "markdown",
   "metadata": {},
   "source": [
    "13. Mention the movieId of the \"Sci-Fi\" movie which has the highest IMDB rating."
   ]
  },
  {
   "cell_type": "code",
   "execution_count": 15,
   "metadata": {},
   "outputs": [
    {
     "name": "stdout",
     "output_type": "stream",
     "text": [
      "MovieId of the Sci-Fi movie with the highest IMDB rating:\n",
      "24\n"
     ]
    }
   ],
   "source": [
    "import pandas as pd\n",
    "\n",
    "# Read the relevant CSV files into DataFrames\n",
    "movies_df = pd.read_csv('movies.csv')\n",
    "ratings_df = pd.read_csv('ratings.csv')\n",
    "\n",
    "# Merge the DataFrames on the 'movieId' column\n",
    "merged_df = pd.merge(movies_df, ratings_df, on='movieId')\n",
    "\n",
    "# Filter for Sci-Fi movies\n",
    "scifi_movies = merged_df[merged_df['genres'].str.contains('Sci-Fi')]  # Assuming 'genres' column\n",
    "\n",
    "# Find the Sci-Fi movie with the highest IMDB rating\n",
    "scifi_movie_with_highest_rating = scifi_movies.loc[scifi_movies['rating'] == scifi_movies['rating'].max()]\n",
    "\n",
    "# Extract the movieId of the Sci-Fi movie with the highest rating\n",
    "scifi_movieId_with_highest_rating = scifi_movie_with_highest_rating['movieId'].iloc[0]\n",
    "\n",
    "# Print the movieId\n",
    "print(\"MovieId of the Sci-Fi movie with the highest IMDB rating:\")\n",
    "print(scifi_movieId_with_highest_rating)\n"
   ]
  },
  {
   "cell_type": "markdown",
   "metadata": {},
   "source": [
    "12. Mention the movieId of the movie which has the highest IMDB rating"
   ]
  },
  {
   "cell_type": "code",
   "execution_count": 14,
   "metadata": {},
   "outputs": [
    {
     "name": "stdout",
     "output_type": "stream",
     "text": [
      "MovieId of the movie with the highest IMDB rating:\n",
      "1\n"
     ]
    }
   ],
   "source": [
    "import pandas as pd\n",
    "\n",
    "# Read the relevant CSV files into DataFrames\n",
    "movies_df = pd.read_csv('movies.csv')\n",
    "ratings_df = pd.read_csv('ratings.csv')\n",
    "\n",
    "# Merge the DataFrames on the 'movieId' column\n",
    "merged_df = pd.merge(movies_df, ratings_df, on='movieId')\n",
    "\n",
    "# Find the movie with the highest IMDB rating\n",
    "movie_with_highest_rating = merged_df.loc[merged_df['rating'] == merged_df['rating'].max()]\n",
    "\n",
    "# Extract the movieId of the movie with the highest rating\n",
    "movieId_with_highest_rating = movie_with_highest_rating['movieId'].iloc[0]\n",
    "\n",
    "# Print the movieId\n",
    "print(\"MovieId of the movie with the highest IMDB rating:\")\n",
    "print(movieId_with_highest_rating)\n"
   ]
  },
  {
   "cell_type": "markdown",
   "metadata": {},
   "source": [
    "11. Which Sci-Fi movie is \"third most popular\" based on the number of user ratings?\n",
    "\n",
    "Deadpool (2016)\n",
    "Terminator 2: Judgment Day (1991)\n",
    "X-Men: The Last Stand (2006)\n",
    "Jurassic Park (1993)"
   ]
  },
  {
   "cell_type": "code",
   "execution_count": 13,
   "metadata": {},
   "outputs": [
    {
     "name": "stdout",
     "output_type": "stream",
     "text": [
      "Third most popular Sci-Fi movie based on user ratings:\n",
      "Jurassic Park (1993)\n"
     ]
    }
   ],
   "source": [
    "import pandas as pd\n",
    "\n",
    "# Read the CSV files into DataFrames\n",
    "movies_df = pd.read_csv('movies.csv')\n",
    "ratings_df = pd.read_csv('ratings.csv')\n",
    "\n",
    "# Merge the DataFrames on a common column (e.g., movie ID)\n",
    "merged_df = pd.merge(movies_df, ratings_df, on='movieId')  # Adjust if the common column is different\n",
    "\n",
    "# Filter for Sci-Fi movies\n",
    "scifi_movies = merged_df[merged_df['genres'].str.contains('Sci-Fi')]  # Assuming 'genres' column\n",
    "\n",
    "# Count the number of ratings for each Sci-Fi movie\n",
    "rating_counts = scifi_movies.groupby('title')['rating'].count()\n",
    "\n",
    "# Sort in descending order by rating count\n",
    "sorted_rating_counts = rating_counts.sort_values(ascending=False)\n",
    "\n",
    "# Get the title of the third most popular Sci-Fi movie\n",
    "third_most_popular_scifi = sorted_rating_counts.index[2]\n",
    "\n",
    "print(\"Third most popular Sci-Fi movie based on user ratings:\")\n",
    "print(third_most_popular_scifi)\n"
   ]
  },
  {
   "cell_type": "markdown",
   "metadata": {},
   "source": [
    "8. How does the data distribution of user ratings for \"Fight Club (1999)\" movie looks like?\n",
    "\n",
    "Normal Distribution\n",
    "Left Skewed Distribution\n",
    "Right Skewed Distribution\n",
    "Uniform Distribution"
   ]
  },
  {
   "cell_type": "code",
   "execution_count": 1,
   "metadata": {},
   "outputs": [
    {
     "data": {
      "image/png": "[encoded data removed]",
      "text/plain": [
       "<Figure size 640x480 with 1 Axes>"
      ]
     },
     "metadata": {},
     "output_type": "display_data"
    }
   ],
   "source": [
    "import pandas as pd\n",
    "import matplotlib.pyplot as plt\n",
    "\n",
    "# Load movies and ratings data into DataFrames\n",
    "movies_df = pd.read_csv(\"movies.csv\")\n",
    "ratings_df = pd.read_csv(\"ratings.csv\")\n",
    "\n",
    "# Find the movieId for \"Fight Club (1999)\"\n",
    "fight_club_movie_id = movies_df[\n",
    "    (movies_df[\"title\"] == \"Fight Club (1999)\")\n",
    "][\"movieId\"].values[0]\n",
    "\n",
    "# Filter ratings for the specific movieId\n",
    "fight_club_ratings = ratings_df[ratings_df[\"movieId\"] == fight_club_movie_id]\n",
    "\n",
    "# Plot a histogram of user ratings\n",
    "plt.hist(fight_club_ratings[\"rating\"], bins=10, edgecolor=\"black\")\n",
    "plt.title(\"User Ratings Distribution for Fight Club (1999)\")\n",
    "plt.xlabel(\"Rating\")\n",
    "plt.ylabel(\"Number of Users\")\n",
    "plt.show()\n"
   ]
  },
  {
   "cell_type": "markdown",
   "metadata": {},
   "source": [
    "7. What is the average user rating for movie named \"Terminator 2: Judgment Day (1991)\"?"
   ]
  },
  {
   "cell_type": "code",
   "execution_count": 7,
   "metadata": {},
   "outputs": [
    {
     "name": "stdout",
     "output_type": "stream",
     "text": [
      "The average user rating for 'Terminator 2: Judgment Day (1991)' is: 3.97\n"
     ]
    }
   ],
   "source": [
    "import pandas as pd\n",
    "\n",
    "# Load movies and ratings data into DataFrames\n",
    "movies_df = pd.read_csv(\"movies.csv\")\n",
    "ratings_df = pd.read_csv(\"ratings.csv\")\n",
    "\n",
    "# Find the movieId for \"Terminator 2: Judgment Day (1991)\"\n",
    "terminator_movie_id = movies_df[\n",
    "    (movies_df[\"title\"] == \"Terminator 2: Judgment Day (1991)\")\n",
    "][\"movieId\"].values[0]\n",
    "\n",
    "# Filter ratings for the specific movieId\n",
    "terminator_ratings = ratings_df[ratings_df[\"movieId\"] == terminator_movie_id]\n",
    "\n",
    "# Calculate the average user rating\n",
    "average_rating = terminator_ratings[\"rating\"].mean()\n",
    "\n",
    "# Print the result\n",
    "print(f\"The average user rating for 'Terminator 2: Judgment Day (1991)' is: {average_rating:.2f}\")\n"
   ]
  },
  {
   "cell_type": "markdown",
   "metadata": {},
   "source": [
    "6. Select all the correct tags submitted by users to \"Matrix, The (1999)\" movie?\n",
    "\n",
    "alternate universe\n",
    "karate\n",
    "philosophy\n",
    "post apocalyptic"
   ]
  },
  {
   "cell_type": "code",
   "execution_count": 5,
   "metadata": {},
   "outputs": [
    {
     "name": "stdout",
     "output_type": "stream",
     "text": [
      "Tags for Matrix, The (1999):\n",
      "['martial arts', 'sci-fi', 'alternate universe', 'philosophy', 'post apocalyptic']\n"
     ]
    }
   ],
   "source": [
    "import pandas as pd\n",
    "\n",
    "# Load the necessary CSV files into DataFrames\n",
    "movies_df = pd.read_csv(\"movies.csv\")\n",
    "tags_df = pd.read_csv(\"tags.csv\")\n",
    "\n",
    "# Find the movieId for \"Matrix, The (1999)\"\n",
    "matrix_movie_id = movies_df[movies_df[\"title\"] == \"Matrix, The (1999)\"][\"movieId\"].values[0]\n",
    "\n",
    "# Filter tags for the specific movieId\n",
    "matrix_tags = tags_df[tags_df[\"movieId\"] == matrix_movie_id]\n",
    "\n",
    "# Display the tags submitted by users for \"Matrix, The (1999)\"\n",
    "print(\"Tags for Matrix, The (1999):\")\n",
    "print(matrix_tags[\"tag\"].tolist())\n"
   ]
  },
  {
   "cell_type": "markdown",
   "metadata": {},
   "source": [
    "5. Which movie has recieved maximum number of user ratings?\n",
    "\n",
    "    Matrix\n",
    "    Pulp Fiction\n",
    "    Forrest Gump\n",
    "    Shawshank Redemption"
   ]
  },
  {
   "cell_type": "code",
   "execution_count": 4,
   "metadata": {},
   "outputs": [
    {
     "name": "stdout",
     "output_type": "stream",
     "text": [
      "The movie with the maximum number of user ratings is: Forrest Gump (1994)\n"
     ]
    }
   ],
   "source": [
    "import pandas as pd\n",
    "\n",
    "# Load movies and ratings data into DataFrames\n",
    "movies_df = pd.read_csv(\"movies.csv\")\n",
    "ratings_df = pd.read_csv(\"ratings.csv\")\n",
    "\n",
    "# Merge the movies and ratings DataFrames on the movieId column\n",
    "merged_df = pd.merge(ratings_df, movies_df, on=\"movieId\")\n",
    "\n",
    "# Group by movie title and count the number of ratings\n",
    "ratings_count = merged_df.groupby(\"title\").size()\n",
    "\n",
    "# Find the movie with the maximum number of ratings\n",
    "max_ratings_movie = ratings_count.idxmax()\n",
    "\n",
    "# Print the result\n",
    "print(f\"The movie with the maximum number of user ratings is: {max_ratings_movie}\")\n"
   ]
  },
  {
   "cell_type": "markdown",
   "metadata": {},
   "source": [
    "4. How many unique \"userId\" are available in \"ratings.csv\"?"
   ]
  },
  {
   "cell_type": "code",
   "execution_count": 3,
   "metadata": {},
   "outputs": [
    {
     "name": "stdout",
     "output_type": "stream",
     "text": [
      "Number of unique userId: 610\n"
     ]
    }
   ],
   "source": [
    "import pandas as pd\n",
    "\n",
    "# Load the CSV file into a DataFrame\n",
    "df = pd.read_csv(\"ratings.csv\")\n",
    "\n",
    "# Get unique values of the \"userId\" column and count them\n",
    "unique_user_ids = df[\"userId\"].nunique()\n",
    "\n",
    "# Print the result\n",
    "print(f\"Number of unique userId: {unique_user_ids}\")\n"
   ]
  },
  {
   "cell_type": "markdown",
   "metadata": {},
   "source": [
    "9. Which movie is the most popular based on  average user ratings?\n",
    "\n",
    "Godfather, The (1972)\n",
    "Shawshank Redemption, The (1994)\n",
    "Jumanji (1995)\n",
    "Wolf of Wall Street, The (2013)"
   ]
  },
  {
   "cell_type": "code",
   "execution_count": 2,
   "metadata": {},
   "outputs": [
    {
     "name": "stdout",
     "output_type": "stream",
     "text": [
      "Most popular movie based on average user ratings:\n",
      "Shawshank Redemption, The (1994)\n"
     ]
    }
   ],
   "source": [
    "import pandas as pd\n",
    "\n",
    "# Read the relevant CSV files into DataFrames\n",
    "movies_df = pd.read_csv('movies.csv')\n",
    "ratings_df = pd.read_csv('ratings.csv')\n",
    "\n",
    "# Merge the DataFrames on the 'movieId' column\n",
    "merged_df = pd.merge(movies_df, ratings_df, on='movieId')\n",
    "\n",
    "# Filter for the specific movies\n",
    "movies_to_compare = ['Godfather, The (1972)', 'Shawshank Redemption, The (1994)','Jumanji (1995)', 'Wolf of Wall Street, The (2013)']\n",
    "filtered_df = merged_df[merged_df['title'].isin(movies_to_compare)]\n",
    "\n",
    "# Calculate the average rating for each movie\n",
    "average_ratings = filtered_df.groupby('title')['rating'].mean()\n",
    "\n",
    "# Sort by average rating in descending order\n",
    "sorted_ratings = average_ratings.sort_values(ascending=False)\n",
    "\n",
    "# Print the most popular movie based on average rating\n",
    "print(\"Most popular movie based on average user ratings:\")\n",
    "print(sorted_ratings.index[0])\n"
   ]
  }
 ],
 "metadata": {
  "kernelspec": {
   "display_name": "Python 3",
   "language": "python",
   "name": "python3"
  },
  "language_info": {
   "codemirror_mode": {
    "name": "ipython",
    "version": 3
   },
   "file_extension": ".py",
   "mimetype": "text/x-python",
   "name": "python",
   "nbconvert_exporter": "python",
   "pygments_lexer": "ipython3",
   "version": "3.12.0"
  }
 },
 "nbformat": 4,
 "nbformat_minor": 2
}
